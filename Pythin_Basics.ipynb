{
  "nbformat": 4,
  "nbformat_minor": 0,
  "metadata": {
    "colab": {
      "provenance": [],
      "authorship_tag": "ABX9TyMBOjVnfnyAHypZ4fJbODz8",
      "include_colab_link": true
    },
    "kernelspec": {
      "name": "python3",
      "display_name": "Python 3"
    },
    "language_info": {
      "name": "python"
    }
  },
  "cells": [
    {
      "cell_type": "markdown",
      "metadata": {
        "id": "view-in-github",
        "colab_type": "text"
      },
      "source": [
        "<a href=\"https://colab.research.google.com/github/KathituCodes/BMI-calculator/blob/main/Pythin_Basics.ipynb\" target=\"_parent\"><img src=\"https://colab.research.google.com/assets/colab-badge.svg\" alt=\"Open In Colab\"/></a>"
      ]
    },
    {
      "cell_type": "markdown",
      "source": [
        "Challenge 1: Calculate GPA\n",
        "Test your skill on:\n",
        "1. User Input\n",
        "2. Variables\n",
        "3. Arithmetic Operations\n",
        "4. Printing Output:\n",
        "5. Control Flow.\n",
        "6. Data Types\n",
        "7. Basic Math Operations\n",
        "\n",
        "- Write a Python program that calculates the Grade Point Average (GPA) for a student based on their grades in three subjects: Math, Science, and English. Assume that the grades are on a scale of 0 to 100, and the GPA is calculated as the average of these three grades.\n",
        "\n",
        "Requirements:\n",
        "\n",
        "● Prompt the user to input their grades for Math, Science, and English.\n",
        "\n",
        "● Calculate the GPA using the formula: GPA = (Math Grade + Science Grade + English Grade) / 3.\n",
        "\n",
        "● Print the calculated GPA with two decimal places.\n",
        "\n",
        "Sample:\n",
        "\n",
        "- Enter Math grade: 85\n",
        "- Enter Science grade: 90\n",
        "- Enter English grade: 75"
      ],
      "metadata": {
        "id": "jqW1A8byJ08I"
      }
    },
    {
      "cell_type": "code",
      "execution_count": null,
      "metadata": {
        "colab": {
          "base_uri": "https://localhost:8080/"
        },
        "id": "SFpYJ-jJJUsD",
        "outputId": "ac247ea6-5527-42b4-fd5d-97af4befd4ee"
      },
      "outputs": [
        {
          "output_type": "stream",
          "name": "stdout",
          "text": [
            "Enter the Math grade: 85\n",
            "Enter the Science grade: 90\n",
            "Enter the English grade: 75\n",
            "Your GPA is: 83.33\n"
          ]
        }
      ],
      "source": [
        "# Step 1:\n",
        "# Prompt the user for the grades and convert them to float\n",
        "math_grade = float(input(\"Enter the Math grade: \"))\n",
        "Science_grade = float(input(\"Enter the Science grade: \"))\n",
        "English_grade = float(input(\"Enter the English grade: \"))\n",
        "\n",
        "# Step 2:\n",
        "# Calculate the GPA by averaging the three grades\n",
        "GPA = (math_grade + Science_grade + English_grade)/3\n",
        "\n",
        "# Print the GPA of the average of the three grades\n",
        "print(f\"Your GPA is: {GPA:.2f}\")\n"
      ]
    },
    {
      "cell_type": "markdown",
      "source": [
        "Challenge 2 : BMI Calculator:\n",
        "\n",
        "Tests your skill on:\n",
        "1. User input handling\n",
        "2. Basic arithmetic operations\n",
        "3. Conditional statements\n",
        "4. Output formatting\n",
        "\n",
        "Challenge: Write a Python program that calculates the Body Mass Index (BMI) based on user input of weight (in kilograms) and height (in meters).\n",
        "\n",
        "Requirements:\n",
        "\n",
        "● Prompt the user to input their weight in kilograms.\n",
        "\n",
        "● Prompt the user to input their height in meters.\n",
        "\n",
        "● Calculate the BMI using the formula: BMI = weight / (height * height).\n",
        "\n",
        "● Print the calculated BMI and interpret it according to BMI categories (e.g., underweight, normal weight, overweight, obese)."
      ],
      "metadata": {
        "id": "mtm4SiMNO16j"
      }
    },
    {
      "cell_type": "code",
      "source": [
        "# Step 1:\n",
        "# Prrompt the user for weight in KGs and convert it to float\n",
        "weight = float(input(\"Enter your weight in Kilograms: \"))\n",
        "\n",
        "# Prompt the user for height in meters and covert it to float\n",
        "height_cm = float(input(\"Enter your height in meters: \"))\n",
        "\n",
        "# converting height to cm\n",
        "height_cm = height_cm /100\n",
        "\n",
        "# Step 2:\n",
        "# Calculate the BMI using the formula: weight / (height * height)\n",
        "bmi = weight/(height_cm ** 2 )\n",
        "\n",
        "# Step 3:\n",
        "# Determine the BMI category based off our calculated values\n",
        "if bmi <= 18.5:\n",
        "  print(\"You are underweight and you need to see a doctor or eat more\")\n",
        "elif 18.5 <= bmi < 25:\n",
        "  print(\"You are of normal weight and you are healthy, keep it up!\")\n",
        "elif 25 <= bmi < 29.9:\n",
        "  print(\"You are overweight and need to hit the gym before you experinece health related problems\")\n",
        "else:\n",
        "  print(\"You are obese and you need to start making better life choices, start by consulting a nutritionist\")\n",
        "\n",
        "# Step 4:\n",
        "# Print the BMI rounded to two decimal places and the corresponding category\n",
        "print(f\"Your BMI is: {bmi:.2f}\")\n",
        "\n",
        "\n",
        "\n"
      ],
      "metadata": {
        "colab": {
          "base_uri": "https://localhost:8080/"
        },
        "id": "JSNqHtb6PdrC",
        "outputId": "82c4134d-2c77-484a-a2ff-db2a72d7d6b2"
      },
      "execution_count": null,
      "outputs": [
        {
          "output_type": "stream",
          "name": "stdout",
          "text": [
            "Enter your weight in Kilograms: 78\n",
            "Enter your height in meters: 190\n",
            "You are of normal weight and you are healthy, keep it up!\n",
            "Your BMI is: 21.61\n"
          ]
        }
      ]
    },
    {
      "cell_type": "markdown",
      "source": [
        "Challenge 3 : Guess the Number\n",
        "\n",
        "Write a Python program that generates a random number between 1 and 100 and asks the user to guess it.\n",
        "\n",
        "Tests your skill on:\n",
        "\n",
        "- Random number generation using the random module.\n",
        "- User input handling.\n",
        "- Conditional statements (if-else).\n",
        "- Looping constructs Basic program structure and flow control.\n",
        "\n",
        "Requirements: Generate a random number between 1 and 100. Prompt the user to guess the number. Provide feedback (higher, lower, or correct) based on the user's guess. Allow the user to keep guessing until they guess the correct number."
      ],
      "metadata": {
        "id": "cB2WeClGWvB3"
      }
    },
    {
      "cell_type": "code",
      "source": [
        "# Import random module for random number generation\n",
        "import random\n",
        "\n",
        "# ?Generate random nymbers between 1 and 100\n",
        "secret_number = random.randint(1, 100)\n",
        "\n",
        "# Create a loop until you guess the correct answer\n",
        "while True:\n",
        "\n"
      ],
      "metadata": {
        "id": "9UyempftW54o"
      },
      "execution_count": null,
      "outputs": []
    }
  ]
}